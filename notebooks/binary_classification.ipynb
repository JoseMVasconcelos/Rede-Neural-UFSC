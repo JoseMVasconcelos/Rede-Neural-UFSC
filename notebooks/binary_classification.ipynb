{
 "cells": [
  {
   "cell_type": "raw",
   "id": "84d572c9-a451-42ca-9853-e104a084d339",
   "metadata": {},
   "source": [
    "# Binary Classification Model - Customer Purchase Prediction"
   ]
  },
  {
   "cell_type": "code",
   "id": "add7b387-26c8-43fc-85f7-b6b4ec51edda",
   "metadata": {
    "ExecuteTime": {
     "end_time": "2025-06-28T20:58:18.782967Z",
     "start_time": "2025-06-28T20:58:18.780266Z"
    }
   },
   "source": [
    "## 1. Import Libraries and local dependencies, such as the NeuralNetwork class"
   ],
   "outputs": [],
   "execution_count": 1
  },
  {
   "cell_type": "code",
   "id": "a2cbe0a1-bc0d-4737-976e-ac6cd320874d",
   "metadata": {
    "ExecuteTime": {
     "end_time": "2025-06-28T21:07:02.741281Z",
     "start_time": "2025-06-28T21:07:02.737751Z"
    }
   },
   "source": [
    "from neural_lib.neural_network import NeuralNetwork\n",
    "\n",
    "import polars as pl\n",
    "import numpy as np\n",
    "from sklearn.model_selection import train_test_split\n",
    "from sklearn.preprocessing import StandardScaler, OneHotEncoder\n",
    "from sklearn.compose import ColumnTransformer"
   ],
   "outputs": [],
   "execution_count": 12
  },
  {
   "cell_type": "code",
   "id": "459ee0af-6f93-404e-9833-8dbbc1ef069e",
   "metadata": {
    "ExecuteTime": {
     "end_time": "2025-06-28T20:58:33.733958Z",
     "start_time": "2025-06-28T20:58:33.731320Z"
    }
   },
   "source": [
    "## 2. Load and Preprocess Data"
   ],
   "outputs": [],
   "execution_count": 3
  },
  {
   "cell_type": "code",
   "id": "2bb17a89-ee6d-4a56-a03b-de71b9babc8d",
   "metadata": {
    "ExecuteTime": {
     "end_time": "2025-06-28T21:07:04.511933Z",
     "start_time": "2025-06-28T21:07:04.503099Z"
    }
   },
   "source": [
    "def load_and_preprocess(csv_path):\n",
    "    df = pl.read_csv(csv_path)\n",
    "\n",
    "    continuos_features = [\n",
    "        'Age', 'AnnualIncome', 'NumberOfPurchases',\n",
    "        'TimeSpentOnWebsite', 'DiscountsAvailed'\n",
    "    ]\n",
    "    categorical_features = ['ProductCategory']\n",
    "    passthrough_feats = ['Gender', 'LoyaltyProgram']\n",
    "\n",
    "    features = continuos_features + categorical_features + passthrough_feats\n",
    "    X_raw = df.select(features).to_numpy()\n",
    "    y = df.select('PurchaseStatus').to_numpy().flatten()\n",
    "\n",
    "    preprocessor = ColumnTransformer([\n",
    "        ('scale', StandardScaler(), list(range(0, len(continuos_features)))),\n",
    "        ('onehot', OneHotEncoder(sparse_output=False), [len(continuos_features)]),\n",
    "    ], remainder='passthrough')\n",
    "\n",
    "    X = preprocessor.fit_transform(X_raw)\n",
    "    return X, y\n"
   ],
   "outputs": [],
   "execution_count": 13
  },
  {
   "cell_type": "code",
   "id": "10f6f420-6127-42bb-aeaa-67d41cf96bd5",
   "metadata": {
    "ExecuteTime": {
     "end_time": "2025-06-28T20:58:43.045726Z",
     "start_time": "2025-06-28T20:58:43.043100Z"
    }
   },
   "source": [
    "## 3. Define Model and Helper Functions"
   ],
   "outputs": [],
   "execution_count": 5
  },
  {
   "cell_type": "code",
   "id": "3baea89f-2077-4ea9-8b3c-6072336ca7a0",
   "metadata": {
    "ExecuteTime": {
     "end_time": "2025-06-28T21:07:06.533878Z",
     "start_time": "2025-06-28T21:07:06.528956Z"
    }
   },
   "source": [
    "def train_model(X_train, y_train, hidden_layers, epochs, activation_function):\n",
    "    input_size = X_train.shape[1]\n",
    "    neural_network = NeuralNetwork(\n",
    "        num_input_neurons=input_size,\n",
    "        hidden_layer_sizes=hidden_layers,\n",
    "        activation_function=activation_function,\n",
    "        num_output_neurons=1,\n",
    "        output_activation_function='sigmoid',\n",
    "        loss_function='binary'\n",
    "    )\n",
    "\n",
    "    neural_network.train(X_train, y_train, epochs)\n",
    "    return neural_network\n",
    "\n",
    "def evaluate_model(neural_network, X_test, y_test):\n",
    "    predictions = neural_network.predict(X_test).flatten()\n",
    "    results = (predictions >= 0.5).astype(int)\n",
    "    return np.mean(results == y_test)\n",
    "\n",
    "def get_params():\n",
    "    return [\n",
    "        {'hidden_layers': [32, 16], 'activation_function': 'relu',    'epochs': 100},\n",
    "        {'hidden_layers': [32, 16], 'activation_function': 'tanh',    'epochs': 100},\n",
    "\n",
    "        {'hidden_layers': [64, 32, 16], 'activation_function': 'relu',    'epochs': 200},\n",
    "        {'hidden_layers': [64, 32, 16], 'activation_function': 'tanh',    'epochs': 200},\n",
    "\n",
    "        {'hidden_layers': [128, 64, 32], 'activation_function': 'relu',    'epochs': 300},\n",
    "        {'hidden_layers': [128, 64, 32], 'activation_function': 'tanh',    'epochs': 300},\n",
    "    ]"
   ],
   "outputs": [],
   "execution_count": 14
  },
  {
   "cell_type": "code",
   "id": "f3d1e9c9-5718-40e3-a10a-0006428471ab",
   "metadata": {
    "ExecuteTime": {
     "end_time": "2025-06-28T20:58:46.632712Z",
     "start_time": "2025-06-28T20:58:46.629950Z"
    }
   },
   "source": [
    "## Evaluate Models"
   ],
   "outputs": [],
   "execution_count": 7
  },
  {
   "cell_type": "code",
   "id": "1bd61cd7-d9ce-4ce9-a421-856d53e776e0",
   "metadata": {
    "ExecuteTime": {
     "end_time": "2025-06-28T21:07:11.855389Z",
     "start_time": "2025-06-28T21:07:11.642374Z"
    }
   },
   "source": [
    "X, y = load_and_preprocess('./../data/customer-purchase-behavior.csv')\n",
    "\n",
    "X_train, X_test, y_train, y_test = train_test_split(\n",
    "    X, y, test_size=0.2, random_state=42\n",
    ")\n",
    "\n",
    "results = []\n",
    "for params in get_params():\n",
    "    hidden_layers = params['hidden_layers']\n",
    "    epochs = params['epochs']\n",
    "    activation_function = params['activation_function']\n",
    "\n",
    "    neural_network = train_model(\n",
    "        X_train, y_train,\n",
    "        hidden_layers,\n",
    "        epochs,\n",
    "        activation_function\n",
    "    )\n",
    "    accuracy = evaluate_model(neural_network, X_test, y_test)\n",
    "    print(f'Hidden Layers: {hidden_layers}, Epochs: {epochs}, Activation Function: {activation_function} -> Accuracy: {accuracy:.2f}%')"
   ],
   "outputs": [
    {
     "name": "stdout",
     "output_type": "stream",
     "text": [
      "Hidden Layers: [32, 16], Epochs: 100, Activation Function: relu -> Accuracy: 0.77%\n",
      "Hidden Layers: [32, 16], Epochs: 100, Activation Function: tanh -> Accuracy: 0.72%\n",
      "Hidden Layers: [64, 32, 16], Epochs: 200, Activation Function: relu -> Accuracy: 0.70%\n",
      "Hidden Layers: [64, 32, 16], Epochs: 200, Activation Function: tanh -> Accuracy: 0.68%\n",
      "Hidden Layers: [128, 64, 32], Epochs: 300, Activation Function: relu -> Accuracy: 0.82%\n",
      "Hidden Layers: [128, 64, 32], Epochs: 300, Activation Function: tanh -> Accuracy: 0.79%\n"
     ]
    }
   ],
   "execution_count": 15
  }
 ],
 "metadata": {
  "kernelspec": {
   "display_name": "Python 3 (ipykernel)",
   "language": "python",
   "name": "python3"
  },
  "language_info": {
   "codemirror_mode": {
    "name": "ipython",
    "version": 3
   },
   "file_extension": ".py",
   "mimetype": "text/x-python",
   "name": "python",
   "nbconvert_exporter": "python",
   "pygments_lexer": "ipython3",
   "version": "3.12.3"
  }
 },
 "nbformat": 4,
 "nbformat_minor": 5
}
