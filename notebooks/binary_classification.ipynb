{
 "cells": [
  {
   "cell_type": "markdown",
   "id": "eb684f3b0f231da5",
   "metadata": {},
   "source": [
    "# Modelo de Classificação Binária - Predição de compras de clientes\n",
    "\n",
    "Este _notebook_ implementa o treinamento de um modelo de classificação binária para prever se, com base em um conjunto de atributos, um cliente realizará compras ou não. O conjunto de dados utilizado é o `customer-purchase-behavior.csv`, o qual pode ser acessado na pasta `data`. Ele foi obtido através da plataforma Kaggle, [neste _link_](https://www.kaggle.com/datasets/rabieelkharoua/predict-customer-purchase-behavior-dataset).\n",
    "\n",
    "As redes foram treinadas com diferentes configurações para avaliar o desempenho dos modelos com diferentes funções de ativação, épocas e _hidden layers_. Para o treinamento dos modelos, a biblioteca de Rede Neural Artificial desenvolvida pelos membros do grupo foi utilizada. Mais precisamente, a classe `NeuralNetwork`, a qual representa a rede, foi instanciada e os modelos foram treinados através dos métodos implementados pela classe."
   ]
  },
  {
   "cell_type": "markdown",
   "id": "be5068b0da5b4a5",
   "metadata": {},
   "source": [
    "## Dependências\n",
    "\n",
    "Esta célula é responsável pela importação das dependências utilizadas para os treinamentos dos modelos. Mais precisamente, foram utilizadas como dependências a classe representando a Rede Neural Artificial (`NeuralNetwork`); `pl` (Polars) e `np` (NumPy) para interação com o _dataset_; e, dependências do `scikit-learn` para normalização de dados e divisão do conjunto de dados em dados de teste e de validação."
   ]
  },
  {
   "cell_type": "code",
   "execution_count": 5,
   "id": "a2cbe0a1-bc0d-4737-976e-ac6cd320874d",
   "metadata": {},
   "outputs": [],
   "source": [
    "from neural_lib.neural_network import NeuralNetwork\n",
    "\n",
    "import polars as pl\n",
    "import numpy as np\n",
    "from sklearn.model_selection import train_test_split\n",
    "from sklearn.preprocessing import StandardScaler, OneHotEncoder\n",
    "from sklearn.compose import ColumnTransformer"
   ]
  },
  {
   "cell_type": "markdown",
   "id": "64c274f6687d4cb3",
   "metadata": {},
   "source": [
    "## Carregamento e normalização dos dados\n",
    "\n",
    "Aqui, os dados do _dataset_ são carregados em memória e as seguintes normalizações são realizadas:\n",
    "- Escalonamento das variáveis contínuas (`continuos_features`) com o `StandardScaler`\n",
    "- _One-hot encoding_ para a variável categórica `ProductCategory`\n",
    "- Manutenção das variáveis binárias (`Gender` e `LoyaltyProgram`), visto que elas já assumem valores `0` e `1`"
   ]
  },
  {
   "cell_type": "code",
   "execution_count": 6,
   "id": "2bb17a89-ee6d-4a56-a03b-de71b9babc8d",
   "metadata": {},
   "outputs": [],
   "source": [
    "def load_and_preprocess(csv_path):\n",
    "    df = pl.read_csv(csv_path)\n",
    "\n",
    "    continuos_features = [\n",
    "        'Age', 'AnnualIncome', 'NumberOfPurchases',\n",
    "        'TimeSpentOnWebsite', 'DiscountsAvailed'\n",
    "    ]\n",
    "    categorical_features = ['ProductCategory']\n",
    "    passthrough_feats = ['Gender', 'LoyaltyProgram']\n",
    "\n",
    "    features = continuos_features + categorical_features + passthrough_feats\n",
    "    X_raw = df.select(features).to_numpy()\n",
    "    y = df.select('PurchaseStatus').to_numpy().flatten()\n",
    "\n",
    "    preprocessor = ColumnTransformer([\n",
    "        ('scale', StandardScaler(), list(range(0, len(continuos_features)))),\n",
    "        ('onehot', OneHotEncoder(sparse_output=False), [len(continuos_features)]),\n",
    "    ], remainder='passthrough')\n",
    "\n",
    "    X = preprocessor.fit_transform(X_raw)\n",
    "    return X, y"
   ]
  },
  {
   "cell_type": "markdown",
   "id": "2f9644c051627b80",
   "metadata": {},
   "source": [
    "## Definição do modelo e _helper functions_\n",
    "\n",
    "A função `train_model` cria e treina uma instância da rede neural. A rede é instanciada com a _loss function_ `binary`, função de ativação de saída `sigmoid` e um único neurônio de saída, visto que o modelo a ser treinado trata-se de um classificador binário.\n",
    "\n",
    "A função `evaluate_model` avalia o desempenho do modelo em função do conjunto de dados de validação. A acurácia do modelo é retornada."
   ]
  },
  {
   "cell_type": "code",
   "execution_count": 7,
   "id": "3baea89f-2077-4ea9-8b3c-6072336ca7a0",
   "metadata": {},
   "outputs": [],
   "source": [
    "def train_model(X_train, y_train, hidden_layers, epochs, activation_function):\n",
    "    input_size = X_train.shape[1]\n",
    "    neural_network = NeuralNetwork(\n",
    "        input_size=input_size,\n",
    "        hidden_sizes=hidden_layers,\n",
    "        activation=activation_function,\n",
    "        output_size=1,\n",
    "        output_activation='sigmoid',\n",
    "        loss='binary'\n",
    "    )\n",
    "\n",
    "    neural_network.train(X_train, y_train, epochs)\n",
    "    return neural_network\n",
    "\n",
    "def evaluate_model(neural_network, X_test, y_test):\n",
    "    acc = neural_network.predict(X_test, y_test)\n",
    "    return acc"
   ]
  },
  {
   "cell_type": "markdown",
   "id": "5a9b7d1fa34dc6f8",
   "metadata": {},
   "source": [
    "## Treinamento e avaliação dos modelos\n",
    "\n",
    "A função `get_params()` retorna um conjunto de `hidden_layers`, `activation_function` e `epochs` a serem utilizadas para avaliar o desempenho do modelo.\n",
    "\n",
    "Em seguida, o conjunto de dados é dividido em dados de teste e de treinamento. Para cada conjunto de parâmetros definido, o modelo de classificação binária é treinado e avaliado."
   ]
  },
  {
   "cell_type": "code",
   "execution_count": 8,
   "id": "1bd61cd7-d9ce-4ce9-a421-856d53e776e0",
   "metadata": {},
   "outputs": [
    {
     "name": "stdout",
     "output_type": "stream",
     "text": [
      "Accuracy on last epoch 96.0\n",
      "Hidden Layers: [32, 16], Epochs: 100, Activation Function: relu -> Accuracy: 46.33%\n",
      "Accuracy on last epoch 77.0\n",
      "Hidden Layers: [32, 16], Epochs: 100, Activation Function: tanh -> Accuracy: 59.00%\n",
      "Accuracy on last epoch 4.0\n",
      "Hidden Layers: [64, 32, 16], Epochs: 200, Activation Function: relu -> Accuracy: 47.33%\n",
      "Accuracy on last epoch 21.5\n",
      "Hidden Layers: [64, 32, 16], Epochs: 200, Activation Function: tanh -> Accuracy: 59.67%\n",
      "Accuracy on last epoch 2.3333333333333335\n",
      "Hidden Layers: [128, 64, 32], Epochs: 300, Activation Function: relu -> Accuracy: 46.00%\n",
      "Accuracy on last epoch 22.333333333333332\n",
      "Hidden Layers: [128, 64, 32], Epochs: 300, Activation Function: tanh -> Accuracy: 60.67%\n"
     ]
    }
   ],
   "source": [
    "def get_params():\n",
    "    return [\n",
    "        {'hidden_layers': [32, 16], 'activation_function': 'relu',    'epochs': 100},\n",
    "        {'hidden_layers': [32, 16], 'activation_function': 'tanh',    'epochs': 100},\n",
    "\n",
    "        {'hidden_layers': [64, 32, 16], 'activation_function': 'relu',    'epochs': 200},\n",
    "        {'hidden_layers': [64, 32, 16], 'activation_function': 'tanh',    'epochs': 200},\n",
    "\n",
    "        {'hidden_layers': [128, 64, 32], 'activation_function': 'relu',    'epochs': 300},\n",
    "        {'hidden_layers': [128, 64, 32], 'activation_function': 'tanh',    'epochs': 300},\n",
    "    ]\n",
    "\n",
    "X, y = load_and_preprocess('./../data/customer-purchase-behavior.csv')\n",
    "\n",
    "X_train, X_test, y_train, y_test = train_test_split(\n",
    "    X, y, test_size=0.2, random_state=42\n",
    ")\n",
    "\n",
    "results = []\n",
    "for params in get_params():\n",
    "    hidden_layers = params['hidden_layers']\n",
    "    epochs = params['epochs']\n",
    "    activation_function = params['activation_function']\n",
    "\n",
    "    neural_network = train_model(\n",
    "        X_train, y_train,\n",
    "        hidden_layers,\n",
    "        epochs,\n",
    "        activation_function\n",
    "    )\n",
    "    acc = evaluate_model(neural_network, X_test, y_test)\n",
    "    print(f'Hidden Layers: {hidden_layers}, Epochs: {epochs}, Activation Function: {activation_function} -> Accuracy: {acc:.2f}%')"
   ]
  }
 ],
 "metadata": {
  "kernelspec": {
   "display_name": ".venv",
   "language": "python",
   "name": "python3"
  },
  "language_info": {
   "codemirror_mode": {
    "name": "ipython",
    "version": 3
   },
   "file_extension": ".py",
   "mimetype": "text/x-python",
   "name": "python",
   "nbconvert_exporter": "python",
   "pygments_lexer": "ipython3",
   "version": "3.12.3"
  }
 },
 "nbformat": 4,
 "nbformat_minor": 5
}
