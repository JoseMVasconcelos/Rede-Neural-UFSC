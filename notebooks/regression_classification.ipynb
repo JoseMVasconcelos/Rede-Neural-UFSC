{
 "cells": [
  {
   "cell_type": "markdown",
   "metadata": {},
   "source": [
    "# Modelo de Regressão - Predição do Peso de Peixes\n",
    "\n",
    "Este _notebook_ implementa o treinamento de um modelo de regressão para prever o peso de um peixe com base em um conjunto de atributos. O conjunto de dados utilizado é o `regression_fish.csv`, que pode ser acessado na pasta `data`. Ele foi obtido através da plataforma Kaggle, [neste _link_](https://www.kaggle.com/datasets/vipullrathod/fish-market).\n",
    "\n",
    "As redes foram treinadas com diferentes configurações para avaliar o desempenho dos modelos com diferentes funções de ativação, épocas e _hidden layers_. Para o treinamento dos modelos, a biblioteca de Rede Neural Artificial desenvolvida pelos membros do grupo foi utilizada. Mais precisamente, a classe `NeuralNetwork`, a qual representa a rede, foi instanciada e os modelos foram treinados através dos métodos implementados pela classe."
   ]
  },
  {
   "cell_type": "markdown",
   "metadata": {},
   "source": [
    "## Dependências\n",
    "\n",
    "Esta célula é responsável pela importação das dependências utilizadas para os treinamentos dos modelos. Foram utilizadas a classe `NeuralNetwork`, `polars` e `numpy` para manipulação de dados, e `scikit-learn` para o pré-processamento e divisão dos dados."
   ]
  },
  {
   "cell_type": "code",
   "execution_count": 29,
   "id": "3c55562d",
   "metadata": {},
   "outputs": [],
   "source": [
    "from neural_lib.neural_network import NeuralNetwork\n",
    "import polars as pl\n",
    "import numpy as np\n",
    "from sklearn.model_selection import train_test_split\n",
    "from sklearn.preprocessing import StandardScaler\n",
    "from sklearn.metrics import mean_squared_error, r2_score, explained_variance_score"
   ]
  },
  {
   "cell_type": "markdown",
   "id": "6748fdd1",
   "metadata": {},
   "source": [
    "## Carregamento e pré-processamento dos dados\n",
    "\n",
    "Aqui, os dados do _dataset_ `regression_fish.csv` são carregados. A coluna 'Weight' é definida como a variável alvo (y). As outras colunas são as características (X).\n",
    "\n",
    "As características numéricas contínuas (`numerical_features`) são escalonadas usando o `StandardScaler` para normalizar os dados."
   ]
  },
  {
   "cell_type": "code",
   "execution_count": 30,
   "id": "ecbe8984",
   "metadata": {},
   "outputs": [],
   "source": [
    "def load_and_preprocess(csv_path):\n",
    "    df = pl.read_csv(csv_path)\n",
    "\n",
    "    y = df.select('Weight').to_numpy()\n",
    "    X_raw = df.drop('Weight')\n",
    "\n",
    "    scaler = StandardScaler()\n",
    "    X = scaler.fit_transform(X_raw.to_numpy())\n",
    "\n",
    "    return X, y"
   ]
  },
  {
   "cell_type": "markdown",
   "id": "ad9799ba",
   "metadata": {},
   "source": [
    "## Definição do modelo e funções auxiliares\n",
    "\n",
    "A função `train_model` cria e treina uma instância da rede neural para regressão.\n",
    "\n",
    "A função `evaluate_model` avalia o desempenho do modelo usando o Erro Quadrático Médio (MSE) e o R-quadrado (R²) nos dados de teste."
   ]
  },
  {
   "cell_type": "code",
   "execution_count": 31,
   "id": "b712544a",
   "metadata": {},
   "outputs": [],
   "source": [
    "def train_model(X_train, y_train, hidden_layers, epochs, activation_function, learning_rate):\n",
    "    input_size = X_train.shape[1]\n",
    "    neural_network = NeuralNetwork(\n",
    "        input_size=input_size,\n",
    "        hidden_sizes=hidden_layers,\n",
    "        activation=activation_function,\n",
    "        output_size=1,\n",
    "        output_activation='identity',\n",
    "        loss='mse'\n",
    "    )\n",
    "\n",
    "    neural_network.train(X_train, y_train, epochs, learning_rate)\n",
    "    return neural_network\n",
    "\n",
    "def evaluate_model(y_true, y_pred):\n",
    "    \"\"\"\n",
    "    Avalia o modelo de regressão calculando R² e RMSE\n",
    "    \"\"\"\n",
    "    rmse = np.sqrt(mean_squared_error(y_true, y_pred))\n",
    "    r2 = r2_score(y_true, y_pred)\n",
    "    \n",
    "    return r2, rmse"
   ]
  },
  {
   "cell_type": "markdown",
   "id": "30cc50e6",
   "metadata": {},
   "source": [
    "## Treinamento e avaliação dos modelos\n",
    "\n",
    "A função `get_params()` define diferentes conjuntos de hiperparâmetros. Os dados são divididos e a variável alvo `y` é escalada para estabilizar o treinamento. Após o treinamento, as predições são revertidas para a escala original antes de calcular as métricas."
   ]
  },
  {
   "cell_type": "code",
   "execution_count": 32,
   "id": "1ee0ba9c",
   "metadata": {},
   "outputs": [
    {
     "name": "stdout",
     "output_type": "stream",
     "text": [
      "Hidden Layers: [64, 32], Epochs: 1000, Activation: tanh, LR: 0.001 ->  RMSE: 92.45, R²: 0.94\n",
      "Hidden Layers: [8, 2], Epochs: 1000, Activation: relu, LR: 0.001 ->  RMSE: 208.17, R²: 0.70\n",
      "Hidden Layers: [128, 64, 32], Epochs: 1500, Activation: tanh, LR: 0.001 ->  RMSE: 87.89, R²: 0.95\n",
      "Hidden Layers: [128, 64, 32], Epochs: 1500, Activation: relu, LR: 0.001 ->  RMSE: 67.20, R²: 0.97\n"
     ]
    }
   ],
   "source": [
    "def get_params():\n",
    "    return [\n",
    "        {'hidden_layers': [64, 32], 'activation_function': 'tanh', 'epochs': 1000, 'learning_rate': 0.001},\n",
    "        {'hidden_layers': [8, 2], 'activation_function': 'relu', 'epochs': 1000, 'learning_rate': 0.001},\n",
    "        {'hidden_layers': [128, 64, 32], 'activation_function': 'tanh', 'epochs': 1500, 'learning_rate': 0.001},\n",
    "        {'hidden_layers': [128, 64, 32], 'activation_function': 'relu', 'epochs': 1500, 'learning_rate': 0.001},\n",
    "    ]\n",
    "\n",
    "X, y = load_and_preprocess('./../data/regression_fish.csv')\n",
    "\n",
    "# Redimensiona y para o formato (n_samples, 1) para o scaler\n",
    "y = y.reshape(-1, 1)\n",
    "\n",
    "X_train, X_test, y_train, y_test = train_test_split(\n",
    "    X, y, test_size=0.2, random_state=42\n",
    ")\n",
    "\n",
    "# Cria e treina um scaler para a variável alvo 'y' APENAS com os dados de treino\n",
    "scaler_y = StandardScaler()\n",
    "y_train_scaled = scaler_y.fit_transform(y_train)\n",
    "y_test_scaled = scaler_y.transform(y_test)\n",
    "\n",
    "for params in get_params():\n",
    "    hidden_layers = params['hidden_layers']\n",
    "    epochs = params['epochs']\n",
    "    activation_function = params['activation_function']\n",
    "    learning_rate = params['learning_rate']\n",
    "\n",
    "    neural_network = train_model(\n",
    "        X_train, y_train_scaled,\n",
    "        hidden_layers,\n",
    "        epochs,\n",
    "        activation_function,\n",
    "        learning_rate\n",
    "    )\n",
    "    \n",
    "    predictions_scaled = neural_network.predict(X_test)\n",
    "    predictions_original_scale = scaler_y.inverse_transform(predictions_scaled.reshape(-1, 1))\n",
    "\n",
    "    r2, rmse = evaluate_model(y_test, predictions_original_scale)\n",
    "    \n",
    "    print(f'Hidden Layers: {hidden_layers}, Epochs: {epochs}, Activation: {activation_function}, LR: {learning_rate} ->  RMSE: {rmse:.2f}, R²: {r2:.2f}')"
   ]
  }
 ],
 "metadata": {
  "kernelspec": {
   "display_name": "Python 3",
   "language": "python",
   "name": "python3"
  },
  "language_info": {
   "codemirror_mode": {
    "name": "ipython",
    "version": 3
   },
   "file_extension": ".py",
   "mimetype": "text/x-python",
   "name": "python",
   "nbconvert_exporter": "python",
   "pygments_lexer": "ipython3",
   "version": "3.13.4"
  }
 },
 "nbformat": 4,
 "nbformat_minor": 5
}
